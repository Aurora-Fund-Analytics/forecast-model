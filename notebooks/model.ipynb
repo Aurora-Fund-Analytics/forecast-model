{
  "cells": [
    {
      "cell_type": "markdown",
      "metadata": {
        "id": "view-in-github",
        "colab_type": "text"
      },
      "source": [
        "<a href=\"https://colab.research.google.com/github/Aurora-Fund-Analytics/forecast-model/blob/main/notebooks/model.ipynb\" target=\"_parent\"><img src=\"https://colab.research.google.com/assets/colab-badge.svg\" alt=\"Open In Colab\"/></a>"
      ]
    },
    {
      "cell_type": "markdown",
      "id": "cd91904d",
      "metadata": {
        "id": "cd91904d"
      },
      "source": [
        "# Stock Price Prediction Model"
      ]
    },
    {
      "cell_type": "code",
      "execution_count": null,
      "id": "875ee909",
      "metadata": {
        "vscode": {
          "languageId": "plaintext"
        },
        "id": "875ee909"
      },
      "outputs": [],
      "source": [
        "!pip install yfinance torch numpy pandas scikit-learn matplotlib"
      ]
    },
    {
      "cell_type": "code",
      "source": [
        "import yfinance as yf\n",
        "import numpy as np\n",
        "import pandas as pd\n",
        "import torch\n",
        "import torch.nn as nn\n",
        "from sklearn.preprocessing import MinMaxScaler\n",
        "from torch.utils.data import DataLoader, Dataset\n",
        "import matplotlib.pyplot as plt"
      ],
      "metadata": {
        "id": "HyttQ49YoYUm"
      },
      "id": "HyttQ49YoYUm",
      "execution_count": null,
      "outputs": []
    },
    {
      "cell_type": "markdown",
      "source": [
        "# Download & Preprocess Stock Data"
      ],
      "metadata": {
        "id": "R7DtgEWmzJXY"
      },
      "id": "R7DtgEWmzJXY"
    },
    {
      "cell_type": "code",
      "source": [
        "# -------------------\n",
        "# 1. Load Stock Data\n",
        "# -------------------\n",
        "ticker = \"E1VFVN30\"\n",
        "data = yf.download(ticker, start=\"2015-01-01\", end=\"2024-12-31\")\n",
        "data = data[['Close']]  # use closing price only"
      ],
      "metadata": {
        "id": "SJh1gi9Hwi8o"
      },
      "id": "SJh1gi9Hwi8o",
      "execution_count": null,
      "outputs": []
    },
    {
      "cell_type": "code",
      "source": [
        "# Normalize data (0,1)\n",
        "scaler = MinMaxScaler(feature_range=(0,1))\n",
        "scaled_data = scaler.fit_transform(data)"
      ],
      "metadata": {
        "id": "nkeMBG1HwjoI"
      },
      "id": "nkeMBG1HwjoI",
      "execution_count": null,
      "outputs": []
    },
    {
      "cell_type": "code",
      "source": [
        "# -------------------\n",
        "# 2. Create Dataset\n",
        "# -------------------\n",
        "SEQ_LEN = 60  # lookback window (60 days)\n",
        "\n",
        "class StockDataset(Dataset):\n",
        "    def __init__(self, data, seq_len=SEQ_LEN):\n",
        "        self.data = data\n",
        "        self.seq_len = seq_len\n",
        "\n",
        "    def __len__(self):\n",
        "        return len(self.data) - self.seq_len\n",
        "\n",
        "    def __getitem__(self, idx):\n",
        "        seq = self.data[idx:idx+self.seq_len]\n",
        "        label = self.data[idx+self.seq_len]\n",
        "        return torch.tensor(seq, dtype=torch.float32), torch.tensor(label, dtype=torch.float32)"
      ],
      "metadata": {
        "id": "badstulzxKXg"
      },
      "id": "badstulzxKXg",
      "execution_count": null,
      "outputs": []
    },
    {
      "cell_type": "code",
      "source": [
        "dataset = StockDataset(scaled_data, SEQ_LEN)\n",
        "train_size = int(len(dataset) * 0.8)\n",
        "test_size = len(dataset) - train_size\n",
        "train_dataset, test_dataset = torch.utils.data.random_split(dataset, [train_size, test_size])\n",
        "\n",
        "train_loader = DataLoader(train_dataset, batch_size=64, shuffle=True)\n",
        "test_loader = DataLoader(test_dataset, batch_size=64, shuffle=False)"
      ],
      "metadata": {
        "id": "G8qWpxBUxQIQ"
      },
      "id": "G8qWpxBUxQIQ",
      "execution_count": null,
      "outputs": []
    },
    {
      "cell_type": "markdown",
      "source": [
        "# Building LSTM model and training"
      ],
      "metadata": {
        "id": "Rt7KWgnizDLw"
      },
      "id": "Rt7KWgnizDLw"
    },
    {
      "cell_type": "code",
      "source": [
        "# -------------------\n",
        "# 3. Build model\n",
        "# -------------------\n",
        "class LSTMModel(nn.Module):\n",
        "    def __init__(self, input_size=1, hidden_size=64, num_layers=2, output_size=1):\n",
        "        super(LSTMModel, self).__init__()\n",
        "        self.lstm = nn.LSTM(input_size, hidden_size, num_layers, batch_first=True)\n",
        "        self.fc = nn.Linear(hidden_size, output_size)\n",
        "\n",
        "    def forward(self, x):\n",
        "        out, _ = self.lstm(x)\n",
        "        out = out[:, -1, :]  # last time step\n",
        "        out = self.fc(out)\n",
        "        return out\n",
        "\n",
        "model = LSTMModel()\n",
        "criterion = nn.MSELoss()\n",
        "optimizer = torch.optim.Adam(model.parameters(), lr=0.001)"
      ],
      "metadata": {
        "id": "faT92LryxVlo"
      },
      "id": "faT92LryxVlo",
      "execution_count": null,
      "outputs": []
    },
    {
      "cell_type": "code",
      "source": [
        "# Training\n",
        "EPOCHS = 20\n",
        "for epoch in range(EPOCHS):\n",
        "    model.train()\n",
        "    for seq, target in train_loader:\n",
        "        optimizer.zero_grad()\n",
        "        output = model(seq.unsqueeze(-1))  # (batch, seq_len, 1)\n",
        "        loss = criterion(output, target)\n",
        "        loss.backward()\n",
        "        optimizer.step()\n",
        "    print(f\"Epoch {epoch+1}/{EPOCHS}, Loss: {loss.item():.6f}\")"
      ],
      "metadata": {
        "id": "31v0RYrIy0BI"
      },
      "id": "31v0RYrIy0BI",
      "execution_count": null,
      "outputs": []
    },
    {
      "cell_type": "markdown",
      "source": [
        "# Evaluate & Plot Predictions"
      ],
      "metadata": {
        "id": "6jpZ74tazAXY"
      },
      "id": "6jpZ74tazAXY"
    },
    {
      "cell_type": "code",
      "source": [
        "model.eval()\n",
        "preds, actuals = [], []\n",
        "with torch.no_grad():\n",
        "    for seq, target in test_loader:\n",
        "        output = model(seq.unsqueeze(-1))\n",
        "        preds.extend(output.numpy())\n",
        "        actuals.extend(target.numpy())\n",
        "\n",
        "# Inverse transform back to real price\n",
        "preds = scaler.inverse_transform(np.array(preds).reshape(-1,1))\n",
        "actuals = scaler.inverse_transform(np.array(actuals).reshape(-1,1))\n",
        "\n",
        "plt.figure(figsize=(12,6))\n",
        "plt.plot(actuals, label=\"Actual Price\")\n",
        "plt.plot(preds, label=\"Predicted Price\")\n",
        "plt.legend()\n",
        "plt.show()"
      ],
      "metadata": {
        "id": "zlKNYRlzy2mo"
      },
      "id": "zlKNYRlzy2mo",
      "execution_count": null,
      "outputs": []
    }
  ],
  "metadata": {
    "language_info": {
      "name": "python"
    },
    "colab": {
      "provenance": [],
      "include_colab_link": true
    },
    "kernelspec": {
      "name": "python3",
      "display_name": "Python 3"
    }
  },
  "nbformat": 4,
  "nbformat_minor": 5
}