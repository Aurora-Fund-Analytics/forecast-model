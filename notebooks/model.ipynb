{
 "cells": [
  {
   "cell_type": "markdown",
   "id": "cd91904d",
   "metadata": {},
   "source": [
    "# Stock Price Prediction Model"
   ]
  },
  {
   "cell_type": "code",
   "execution_count": null,
   "id": "875ee909",
   "metadata": {
    "vscode": {
     "languageId": "plaintext"
    }
   },
   "outputs": [],
   "source": []
  }
 ],
 "metadata": {
  "language_info": {
   "name": "python"
  }
 },
 "nbformat": 4,
 "nbformat_minor": 5
}
