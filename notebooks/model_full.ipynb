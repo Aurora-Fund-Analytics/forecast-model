{
  "cells": [
    {
      "cell_type": "markdown",
      "metadata": {
        "id": "view-in-github",
        "colab_type": "text"
      },
      "source": [
        "<a href=\"https://colab.research.google.com/github/Aurora-Fund-Analytics/forecast-model/blob/main/notebooks/model_full.ipynb\" target=\"_parent\"><img src=\"https://colab.research.google.com/assets/colab-badge.svg\" alt=\"Open In Colab\"/></a>"
      ]
    },
    {
      "cell_type": "markdown",
      "id": "cd91904d",
      "metadata": {
        "id": "cd91904d"
      },
      "source": [
        "# Prediction model"
      ]
    },
    {
      "cell_type": "code",
      "execution_count": null,
      "id": "875ee909",
      "metadata": {
        "vscode": {
          "languageId": "plaintext"
        },
        "id": "875ee909"
      },
      "outputs": [],
      "source": [
        "!pip install torch yfinance pandas numpy scikit-learn ta"
      ]
    }
  ],
  "metadata": {
    "language_info": {
      "name": "python"
    },
    "colab": {
      "provenance": [],
      "include_colab_link": true
    },
    "kernelspec": {
      "name": "python3",
      "display_name": "Python 3"
    }
  },
  "nbformat": 4,
  "nbformat_minor": 5
}