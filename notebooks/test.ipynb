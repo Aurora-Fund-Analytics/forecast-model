{
  "cells": [
    {
      "cell_type": "markdown",
      "metadata": {
        "id": "view-in-github",
        "colab_type": "text"
      },
      "source": [
        "<a href=\"https://colab.research.google.com/github/Aurora-Fund-Analytics/forecast-model/blob/main/notebooks/test.ipynb\" target=\"_parent\"><img src=\"https://colab.research.google.com/assets/colab-badge.svg\" alt=\"Open In Colab\"/></a>"
      ]
    },
    {
      "cell_type": "markdown",
      "id": "cd91904d",
      "metadata": {
        "id": "cd91904d"
      },
      "source": [
        "# Prediction model testing"
      ]
    },
    {
      "cell_type": "code",
      "execution_count": null,
      "id": "875ee909",
      "metadata": {
        "vscode": {
          "languageId": "plaintext"
        },
        "id": "875ee909"
      },
      "outputs": [],
      "source": [
        "!pip install yfinance torch numpy pandas scikit-learn matplotlib"
      ]
    },
    {
      "cell_type": "code",
      "source": [
        "import yfinance as yf\n",
        "import numpy as np\n",
        "import pandas as pd\n",
        "import torch\n",
        "import torch.nn as nn\n",
        "from sklearn.preprocessing import MinMaxScaler\n",
        "from torch.utils.data import DataLoader, Dataset\n",
        "import matplotlib.pyplot as plt"
      ],
      "metadata": {
        "id": "HyttQ49YoYUm"
      },
      "id": "HyttQ49YoYUm",
      "execution_count": 35,
      "outputs": []
    },
    {
      "cell_type": "code",
      "source": [
        "model = LSTMModel(input_size=len(features))\n",
        "model.load_state_dict(torch.load(\"lstm_stock_model.pth\"))"
      ],
      "metadata": {
        "id": "D84iFHGlFJY1",
        "outputId": "65725456-7438-4d49-bf98-b94fa92dff17",
        "colab": {
          "base_uri": "https://localhost:8080/"
        }
      },
      "id": "D84iFHGlFJY1",
      "execution_count": 45,
      "outputs": [
        {
          "output_type": "execute_result",
          "data": {
            "text/plain": [
              "<All keys matched successfully>"
            ]
          },
          "metadata": {},
          "execution_count": 45
        }
      ]
    },
    {
      "cell_type": "code",
      "source": [],
      "metadata": {
        "id": "BGjmk2qlF95l"
      },
      "id": "BGjmk2qlF95l",
      "execution_count": null,
      "outputs": []
    }
  ],
  "metadata": {
    "language_info": {
      "name": "python"
    },
    "colab": {
      "provenance": [],
      "include_colab_link": true
    },
    "kernelspec": {
      "name": "python3",
      "display_name": "Python 3"
    }
  },
  "nbformat": 4,
  "nbformat_minor": 5
}